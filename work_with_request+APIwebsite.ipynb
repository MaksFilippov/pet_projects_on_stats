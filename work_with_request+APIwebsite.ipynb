{
 "cells": [
  {
   "cell_type": "code",
   "execution_count": 1,
   "metadata": {},
   "outputs": [],
   "source": [
    "import requests\n",
    "import pandas as pd\n",
    "import seaborn as sns\n",
    "import matplotlib.pyplot as plt"
   ]
  },
  {
   "cell_type": "markdown",
   "metadata": {},
   "source": [
    "    Сайт коллекции музея:  https://metmuseum.org/\n",
    "\n",
    "    API  часть сайта:   https://collectionapi.metmuseum.org/public/collection/"
   ]
  },
  {
   "cell_type": "code",
   "execution_count": 2,
   "metadata": {},
   "outputs": [],
   "source": [
    "# обращаемся к сайту и записываем ответ\n",
    "# r = requests.get('https://collectionapi.metmuseum.org/public/collection/v1/search?q=QUERY')\n",
    "# res = r.json()"
   ]
  },
  {
   "cell_type": "code",
   "execution_count": 3,
   "metadata": {},
   "outputs": [],
   "source": [
    "url = 'https://collectionapi.metmuseum.org/public/collection/v1/search?q='\n",
    "IDs = 'sunflowers'     #  картины с подсолнухами\n",
    "r = requests.get(url+IDs)\n",
    "res = r.json()"
   ]
  },
  {
   "cell_type": "code",
   "execution_count": 4,
   "metadata": {},
   "outputs": [
    {
     "name": "stdout",
     "output_type": "stream",
     "text": [
      "436524\n",
      "2032\n",
      "437329\n"
     ]
    }
   ],
   "source": [
    "# эксперимент: проверить наличие определенных данных\n",
    "x = (437329, 20149, 436524, 2032)\n",
    "for i in res['objectIDs']:\n",
    "    if i in x: \n",
    "        print(i)"
   ]
  },
  {
   "cell_type": "code",
   "execution_count": 5,
   "metadata": {},
   "outputs": [
    {
     "data": {
      "text/plain": [
       "87"
      ]
     },
     "execution_count": 5,
     "metadata": {},
     "output_type": "execute_result"
    }
   ],
   "source": [
    "res['total']"
   ]
  },
  {
   "cell_type": "code",
   "execution_count": 6,
   "metadata": {},
   "outputs": [
    {
     "data": {
      "text/plain": [
       "dict_keys(['total', 'objectIDs'])"
      ]
     },
     "execution_count": 6,
     "metadata": {},
     "output_type": "execute_result"
    }
   ],
   "source": [
    "res.keys()"
   ]
  },
  {
   "cell_type": "code",
   "execution_count": 7,
   "metadata": {},
   "outputs": [
    {
     "data": {
      "text/plain": [
       "87"
      ]
     },
     "execution_count": 7,
     "metadata": {},
     "output_type": "execute_result"
    }
   ],
   "source": [
    "len(res['objectIDs'])"
   ]
  },
  {
   "cell_type": "code",
   "execution_count": 8,
   "metadata": {},
   "outputs": [],
   "source": [
    "#  ищем определеныый объект по его OBJECT_ID\n",
    "#  r_test = requests.get(f'https://collectionapi.metmuseum.org/public/collection/v1/objects/OBJECT_ID')\n",
    "\n",
    "r_test = requests.get(f'https://collectionapi.metmuseum.org/public/collection/v1/objects/437980')\n",
    "obj_test = r_test.json()"
   ]
  },
  {
   "cell_type": "code",
   "execution_count": 9,
   "metadata": {},
   "outputs": [
    {
     "data": {
      "text/plain": [
       "dict_keys(['objectID', 'isHighlight', 'accessionNumber', 'accessionYear', 'isPublicDomain', 'primaryImage', 'primaryImageSmall', 'additionalImages', 'constituents', 'department', 'objectName', 'title', 'culture', 'period', 'dynasty', 'reign', 'portfolio', 'artistRole', 'artistPrefix', 'artistDisplayName', 'artistDisplayBio', 'artistSuffix', 'artistAlphaSort', 'artistNationality', 'artistBeginDate', 'artistEndDate', 'artistGender', 'artistWikidata_URL', 'artistULAN_URL', 'objectDate', 'objectBeginDate', 'objectEndDate', 'medium', 'dimensions', 'measurements', 'creditLine', 'geographyType', 'city', 'state', 'county', 'country', 'region', 'subregion', 'locale', 'locus', 'excavation', 'river', 'classification', 'rightsAndReproduction', 'linkResource', 'metadataDate', 'repository', 'objectURL', 'tags', 'objectWikidata_URL', 'isTimelineWork', 'GalleryNumber'])"
      ]
     },
     "execution_count": 9,
     "metadata": {},
     "output_type": "execute_result"
    }
   ],
   "source": [
    "obj_test.keys()"
   ]
  },
  {
   "cell_type": "code",
   "execution_count": 10,
   "metadata": {},
   "outputs": [
    {
     "data": {
      "text/plain": [
       "'825'"
      ]
     },
     "execution_count": 10,
     "metadata": {},
     "output_type": "execute_result"
    }
   ],
   "source": [
    "obj_test['GalleryNumber']"
   ]
  },
  {
   "cell_type": "code",
   "execution_count": 11,
   "metadata": {},
   "outputs": [
    {
     "data": {
      "text/plain": [
       "'European Paintings'"
      ]
     },
     "execution_count": 11,
     "metadata": {},
     "output_type": "execute_result"
    }
   ],
   "source": [
    "obj_test['department']"
   ]
  },
  {
   "cell_type": "code",
   "execution_count": 12,
   "metadata": {},
   "outputs": [
    {
     "data": {
      "text/plain": [
       "'Painting'"
      ]
     },
     "execution_count": 12,
     "metadata": {},
     "output_type": "execute_result"
    }
   ],
   "source": [
    "obj_test['objectName']"
   ]
  },
  {
   "cell_type": "code",
   "execution_count": 13,
   "metadata": {},
   "outputs": [
    {
     "data": {
      "text/plain": [
       "'Vincent van Gogh'"
      ]
     },
     "execution_count": 13,
     "metadata": {},
     "output_type": "execute_result"
    }
   ],
   "source": [
    "obj_test['artistDisplayName']"
   ]
  },
  {
   "cell_type": "code",
   "execution_count": 14,
   "metadata": {},
   "outputs": [
    {
     "data": {
      "text/plain": [
       "{'objectID': 437980,\n",
       " 'isHighlight': False,\n",
       " 'accessionNumber': '49.30',\n",
       " 'accessionYear': '1949',\n",
       " 'isPublicDomain': True,\n",
       " 'primaryImage': 'https://images.metmuseum.org/CRDImages/ep/original/DP130999.jpg',\n",
       " 'primaryImageSmall': 'https://images.metmuseum.org/CRDImages/ep/web-large/DP130999.jpg',\n",
       " 'additionalImages': [],\n",
       " 'constituents': [{'constituentID': 161947,\n",
       "   'role': 'Artist',\n",
       "   'name': 'Vincent van Gogh',\n",
       "   'constituentULAN_URL': 'http://vocab.getty.edu/page/ulan/500115588',\n",
       "   'constituentWikidata_URL': 'https://www.wikidata.org/wiki/Q5582',\n",
       "   'gender': ''}],\n",
       " 'department': 'European Paintings',\n",
       " 'objectName': 'Painting',\n",
       " 'title': 'Cypresses',\n",
       " 'culture': '',\n",
       " 'period': '',\n",
       " 'dynasty': '',\n",
       " 'reign': '',\n",
       " 'portfolio': '',\n",
       " 'artistRole': 'Artist',\n",
       " 'artistPrefix': '',\n",
       " 'artistDisplayName': 'Vincent van Gogh',\n",
       " 'artistDisplayBio': 'Dutch, Zundert 1853–1890 Auvers-sur-Oise',\n",
       " 'artistSuffix': '',\n",
       " 'artistAlphaSort': 'Gogh, Vincent van',\n",
       " 'artistNationality': 'Dutch',\n",
       " 'artistBeginDate': '1853',\n",
       " 'artistEndDate': '1890',\n",
       " 'artistGender': '',\n",
       " 'artistWikidata_URL': 'https://www.wikidata.org/wiki/Q5582',\n",
       " 'artistULAN_URL': 'http://vocab.getty.edu/page/ulan/500115588',\n",
       " 'objectDate': '1889',\n",
       " 'objectBeginDate': 1889,\n",
       " 'objectEndDate': 1889,\n",
       " 'medium': 'Oil on canvas',\n",
       " 'dimensions': '36 3/4 x 29 1/8 in. (93.4 x 74 cm)',\n",
       " 'measurements': [{'elementName': 'Overall',\n",
       "   'elementDescription': None,\n",
       "   'elementMeasurements': {'Height': 93.4, 'Width': 74}},\n",
       "  {'elementName': 'Frame',\n",
       "   'elementDescription': None,\n",
       "   'elementMeasurements': {'Depth': 10.795,\n",
       "    'Height': 116.2052,\n",
       "    'Width': 96.5202}},\n",
       "  {'elementName': 'Other',\n",
       "   'elementDescription': 'glass',\n",
       "   'elementMeasurements': {'Height': 94.29769, 'Width': 76.517654}}],\n",
       " 'creditLine': 'Rogers Fund, 1949',\n",
       " 'geographyType': '',\n",
       " 'city': '',\n",
       " 'state': '',\n",
       " 'county': '',\n",
       " 'country': '',\n",
       " 'region': '',\n",
       " 'subregion': '',\n",
       " 'locale': '',\n",
       " 'locus': '',\n",
       " 'excavation': '',\n",
       " 'river': '',\n",
       " 'classification': 'Paintings',\n",
       " 'rightsAndReproduction': '',\n",
       " 'linkResource': '',\n",
       " 'metadataDate': '2022-11-03T04:54:42.953Z',\n",
       " 'repository': 'Metropolitan Museum of Art, New York, NY',\n",
       " 'objectURL': 'https://www.metmuseum.org/art/collection/search/437980',\n",
       " 'tags': [{'term': 'Landscapes',\n",
       "   'AAT_URL': 'http://vocab.getty.edu/page/aat/300132294',\n",
       "   'Wikidata_URL': 'https://www.wikidata.org/wiki/Q191163'},\n",
       "  {'term': 'Cypresses',\n",
       "   'AAT_URL': 'http://vocab.getty.edu/page/aat/300343641',\n",
       "   'Wikidata_URL': 'https://www.wikidata.org/wiki/Q146911'}],\n",
       " 'objectWikidata_URL': 'https://www.wikidata.org/wiki/Q867510',\n",
       " 'isTimelineWork': True,\n",
       " 'GalleryNumber': '825'}"
      ]
     },
     "execution_count": 14,
     "metadata": {},
     "output_type": "execute_result"
    }
   ],
   "source": [
    "#  полная структура записи объекта\n",
    "obj_test"
   ]
  },
  {
   "cell_type": "markdown",
   "metadata": {},
   "source": [
    " "
   ]
  },
  {
   "cell_type": "markdown",
   "metadata": {},
   "source": [
    "Теперь напишем цикл, с помощью которого будет собрана информация об объектах, которые были получены на 2 шаге.(res['objectIDs']). Результаты запишем в датафрейм, а именно – следующие параметры:\n",
    "\n",
    "     objectID – id объекта\n",
    "    title – название\n",
    "    artistDisplayName – автор\n",
    "    department – департамент\n",
    "    objectBeginDate – дата (начало)\n",
    "    objectEndDate – дата (конец)\n",
    "    period – название периода\n",
    "    objectName – название/категория объекта\n",
    "    culture – культура"
   ]
  },
  {
   "cell_type": "code",
   "execution_count": 15,
   "metadata": {},
   "outputs": [
    {
     "name": "stdout",
     "output_type": "stream",
     "text": [
      "objectID\n",
      "title\n",
      "artistDisplayName\n",
      "department\n",
      "objectBeginDate\n",
      "objectEndDate\n",
      "period\n",
      "objectName\n",
      "culture\n"
     ]
    }
   ],
   "source": [
    "# пример обхода списка, используем дальше\n",
    "categ = ('objectID','title', 'artistDisplayName', 'department','objectBeginDate',\\\n",
    "         'objectEndDate','period','objectName','culture')\n",
    "\n",
    "for j in categ:\n",
    "        print(j)"
   ]
  },
  {
   "cell_type": "code",
   "execution_count": 16,
   "metadata": {},
   "outputs": [],
   "source": [
    "#  1. вариант:  здесь получаем строки Index, но их неудобно потом объединять...\n",
    "IDs = 437980\n",
    "url = 'https://collectionapi.metmuseum.org/public/collection/v1/objects/'\n",
    "\n",
    "req = requests.get(url+str(IDs))\n",
    "obj = req.json()\n",
    "#print(url+'IDs',obj_cat)\n",
    "result = [(obj[j]) for j in categ]    \n",
    "df1 = pd.Index(result)"
   ]
  },
  {
   "cell_type": "code",
   "execution_count": 17,
   "metadata": {},
   "outputs": [
    {
     "data": {
      "text/plain": [
       "Index([              437980,          'Cypresses',   'Vincent van Gogh',\n",
       "       'European Paintings',                 1889,                 1889,\n",
       "                         '',           'Painting',                   ''],\n",
       "      dtype='object')"
      ]
     },
     "execution_count": 17,
     "metadata": {},
     "output_type": "execute_result"
    }
   ],
   "source": [
    "df1"
   ]
  },
  {
   "cell_type": "code",
   "execution_count": 18,
   "metadata": {},
   "outputs": [
    {
     "data": {
      "text/html": [
       "<div>\n",
       "<style scoped>\n",
       "    .dataframe tbody tr th:only-of-type {\n",
       "        vertical-align: middle;\n",
       "    }\n",
       "\n",
       "    .dataframe tbody tr th {\n",
       "        vertical-align: top;\n",
       "    }\n",
       "\n",
       "    .dataframe thead th {\n",
       "        text-align: right;\n",
       "    }\n",
       "</style>\n",
       "<table border=\"1\" class=\"dataframe\">\n",
       "  <thead>\n",
       "    <tr style=\"text-align: right;\">\n",
       "      <th></th>\n",
       "      <th>objectID</th>\n",
       "      <th>title</th>\n",
       "      <th>artistDisplayName</th>\n",
       "      <th>department</th>\n",
       "      <th>objectBeginDate</th>\n",
       "      <th>objectEndDate</th>\n",
       "      <th>period</th>\n",
       "      <th>objectName</th>\n",
       "      <th>culture</th>\n",
       "    </tr>\n",
       "  </thead>\n",
       "  <tbody>\n",
       "    <tr>\n",
       "      <th>0</th>\n",
       "      <td>437980</td>\n",
       "      <td>Cypresses</td>\n",
       "      <td>Vincent van Gogh</td>\n",
       "      <td>European Paintings</td>\n",
       "      <td>1889</td>\n",
       "      <td>1889</td>\n",
       "      <td></td>\n",
       "      <td>Painting</td>\n",
       "      <td></td>\n",
       "    </tr>\n",
       "  </tbody>\n",
       "</table>\n",
       "</div>"
      ],
      "text/plain": [
       "   objectID      title artistDisplayName          department  objectBeginDate  \\\n",
       "0    437980  Cypresses  Vincent van Gogh  European Paintings             1889   \n",
       "\n",
       "   objectEndDate period objectName culture  \n",
       "0           1889          Painting          "
      ]
     },
     "execution_count": 18,
     "metadata": {},
     "output_type": "execute_result"
    }
   ],
   "source": [
    "# 2 вариант:  здесь уже получаем строки DataFrame, используем этот вариант\n",
    "\n",
    "IDs = 437980\n",
    "url = 'https://collectionapi.metmuseum.org/public/collection/v1/objects/'\n",
    "\n",
    "dfnew = pd.DataFrame()\n",
    "req = requests.get(url+str(IDs))\n",
    "obj = req.json()\n",
    "for j in categ:\n",
    "    dfnew[j] = [obj[j]]\n",
    "\n",
    "dfnew"
   ]
  },
  {
   "cell_type": "code",
   "execution_count": 19,
   "metadata": {},
   "outputs": [],
   "source": [
    "# объеденяем всё в один DataFrame, добавляем обработчик ошибок - каких то параметров может не быть в выдаче\n",
    "\n",
    "categ = ('objectID','title', 'artistDisplayName', 'department',\\\n",
    "         'objectBeginDate','objectEndDate','period','objectName','culture')\n",
    "url = 'https://collectionapi.metmuseum.org/public/collection/v1/objects/'\n",
    "\n",
    "df = pd.DataFrame()\n",
    "for IDs in res['objectIDs']:\n",
    "    req = requests.get(url+str(IDs))\n",
    "    obj = req.json()\n",
    "    #print(url+'IDs',obj_cat)\n",
    "    try:\n",
    "        for j in categ:\n",
    "            dfnew[j] = [obj[j]]\n",
    "            \n",
    "    except:\n",
    "            continue\n",
    "    df = df.append(dfnew)"
   ]
  },
  {
   "cell_type": "code",
   "execution_count": 20,
   "metadata": {},
   "outputs": [
    {
     "data": {
      "text/html": [
       "<div>\n",
       "<style scoped>\n",
       "    .dataframe tbody tr th:only-of-type {\n",
       "        vertical-align: middle;\n",
       "    }\n",
       "\n",
       "    .dataframe tbody tr th {\n",
       "        vertical-align: top;\n",
       "    }\n",
       "\n",
       "    .dataframe thead th {\n",
       "        text-align: right;\n",
       "    }\n",
       "</style>\n",
       "<table border=\"1\" class=\"dataframe\">\n",
       "  <thead>\n",
       "    <tr style=\"text-align: right;\">\n",
       "      <th></th>\n",
       "      <th>objectID</th>\n",
       "      <th>title</th>\n",
       "      <th>artistDisplayName</th>\n",
       "      <th>department</th>\n",
       "      <th>objectBeginDate</th>\n",
       "      <th>objectEndDate</th>\n",
       "      <th>period</th>\n",
       "      <th>objectName</th>\n",
       "      <th>culture</th>\n",
       "    </tr>\n",
       "  </thead>\n",
       "  <tbody>\n",
       "    <tr>\n",
       "      <th>0</th>\n",
       "      <td>436524</td>\n",
       "      <td>Sunflowers</td>\n",
       "      <td>Vincent van Gogh</td>\n",
       "      <td>European Paintings</td>\n",
       "      <td>1887</td>\n",
       "      <td>1887</td>\n",
       "      <td></td>\n",
       "      <td>Painting</td>\n",
       "      <td></td>\n",
       "    </tr>\n",
       "    <tr>\n",
       "      <th>0</th>\n",
       "      <td>484935</td>\n",
       "      <td>Sunflowers</td>\n",
       "      <td>Edward McKnight Kauffer</td>\n",
       "      <td>Modern and Contemporary Art</td>\n",
       "      <td>1921</td>\n",
       "      <td>1921</td>\n",
       "      <td></td>\n",
       "      <td>Painting</td>\n",
       "      <td></td>\n",
       "    </tr>\n",
       "    <tr>\n",
       "      <th>0</th>\n",
       "      <td>437112</td>\n",
       "      <td>Bouquet of Sunflowers</td>\n",
       "      <td>Claude Monet</td>\n",
       "      <td>European Paintings</td>\n",
       "      <td>1881</td>\n",
       "      <td>1881</td>\n",
       "      <td></td>\n",
       "      <td>Painting</td>\n",
       "      <td></td>\n",
       "    </tr>\n",
       "    <tr>\n",
       "      <th>0</th>\n",
       "      <td>210191</td>\n",
       "      <td>Vase with sunflowers</td>\n",
       "      <td>Rozenburg Plateelfabriek</td>\n",
       "      <td>European Sculpture and Decorative Arts</td>\n",
       "      <td>1896</td>\n",
       "      <td>1896</td>\n",
       "      <td></td>\n",
       "      <td>Vase</td>\n",
       "      <td></td>\n",
       "    </tr>\n",
       "    <tr>\n",
       "      <th>0</th>\n",
       "      <td>431264</td>\n",
       "      <td>Sunflowers</td>\n",
       "      <td>Lily Converse</td>\n",
       "      <td>Drawings and Prints</td>\n",
       "      <td>1941</td>\n",
       "      <td>1941</td>\n",
       "      <td></td>\n",
       "      <td>Print</td>\n",
       "      <td></td>\n",
       "    </tr>\n",
       "    <tr>\n",
       "      <th>...</th>\n",
       "      <td>...</td>\n",
       "      <td>...</td>\n",
       "      <td>...</td>\n",
       "      <td>...</td>\n",
       "      <td>...</td>\n",
       "      <td>...</td>\n",
       "      <td>...</td>\n",
       "      <td>...</td>\n",
       "      <td>...</td>\n",
       "    </tr>\n",
       "    <tr>\n",
       "      <th>0</th>\n",
       "      <td>724844</td>\n",
       "      <td>Design for Embroidery with Two Large Garlands ...</td>\n",
       "      <td>Italian School</td>\n",
       "      <td>Drawings and Prints</td>\n",
       "      <td>1845</td>\n",
       "      <td>1905</td>\n",
       "      <td></td>\n",
       "      <td>Drawing Ornament &amp; Architecture</td>\n",
       "      <td></td>\n",
       "    </tr>\n",
       "    <tr>\n",
       "      <th>0</th>\n",
       "      <td>437980</td>\n",
       "      <td>Cypresses</td>\n",
       "      <td>Vincent van Gogh</td>\n",
       "      <td>European Paintings</td>\n",
       "      <td>1889</td>\n",
       "      <td>1889</td>\n",
       "      <td></td>\n",
       "      <td>Painting</td>\n",
       "      <td></td>\n",
       "    </tr>\n",
       "    <tr>\n",
       "      <th>0</th>\n",
       "      <td>834585</td>\n",
       "      <td>A Life in a Year–The Garden–Noon, from \"Pictur...</td>\n",
       "      <td>Arthur Boyd Houghton</td>\n",
       "      <td>Drawings and Prints</td>\n",
       "      <td>1866</td>\n",
       "      <td>1874</td>\n",
       "      <td></td>\n",
       "      <td>Print</td>\n",
       "      <td></td>\n",
       "    </tr>\n",
       "    <tr>\n",
       "      <th>0</th>\n",
       "      <td>834580</td>\n",
       "      <td>A Life in a Year–The Garden–Noon, from \"Pictur...</td>\n",
       "      <td>Arthur Boyd Houghton</td>\n",
       "      <td>Drawings and Prints</td>\n",
       "      <td>1866</td>\n",
       "      <td>1874</td>\n",
       "      <td></td>\n",
       "      <td>Print</td>\n",
       "      <td></td>\n",
       "    </tr>\n",
       "    <tr>\n",
       "      <th>0</th>\n",
       "      <td>834765</td>\n",
       "      <td>A Child's Garden, from \"Picture Poesies\"</td>\n",
       "      <td>Arthur Boyd Houghton</td>\n",
       "      <td>Drawings and Prints</td>\n",
       "      <td>1865</td>\n",
       "      <td>1874</td>\n",
       "      <td></td>\n",
       "      <td>Print</td>\n",
       "      <td></td>\n",
       "    </tr>\n",
       "  </tbody>\n",
       "</table>\n",
       "<p>84 rows × 9 columns</p>\n",
       "</div>"
      ],
      "text/plain": [
       "    objectID                                              title  \\\n",
       "0     436524                                         Sunflowers   \n",
       "0     484935                                         Sunflowers   \n",
       "0     437112                              Bouquet of Sunflowers   \n",
       "0     210191                               Vase with sunflowers   \n",
       "0     431264                                         Sunflowers   \n",
       "..       ...                                                ...   \n",
       "0     724844  Design for Embroidery with Two Large Garlands ...   \n",
       "0     437980                                          Cypresses   \n",
       "0     834585  A Life in a Year–The Garden–Noon, from \"Pictur...   \n",
       "0     834580  A Life in a Year–The Garden–Noon, from \"Pictur...   \n",
       "0     834765           A Child's Garden, from \"Picture Poesies\"   \n",
       "\n",
       "           artistDisplayName                              department  \\\n",
       "0           Vincent van Gogh                      European Paintings   \n",
       "0    Edward McKnight Kauffer             Modern and Contemporary Art   \n",
       "0               Claude Monet                      European Paintings   \n",
       "0   Rozenburg Plateelfabriek  European Sculpture and Decorative Arts   \n",
       "0              Lily Converse                     Drawings and Prints   \n",
       "..                       ...                                     ...   \n",
       "0             Italian School                     Drawings and Prints   \n",
       "0           Vincent van Gogh                      European Paintings   \n",
       "0       Arthur Boyd Houghton                     Drawings and Prints   \n",
       "0       Arthur Boyd Houghton                     Drawings and Prints   \n",
       "0       Arthur Boyd Houghton                     Drawings and Prints   \n",
       "\n",
       "    objectBeginDate  objectEndDate period                       objectName  \\\n",
       "0              1887           1887                                Painting   \n",
       "0              1921           1921                                Painting   \n",
       "0              1881           1881                                Painting   \n",
       "0              1896           1896                                    Vase   \n",
       "0              1941           1941                                   Print   \n",
       "..              ...            ...    ...                              ...   \n",
       "0              1845           1905         Drawing Ornament & Architecture   \n",
       "0              1889           1889                                Painting   \n",
       "0              1866           1874                                   Print   \n",
       "0              1866           1874                                   Print   \n",
       "0              1865           1874                                   Print   \n",
       "\n",
       "   culture  \n",
       "0           \n",
       "0           \n",
       "0           \n",
       "0           \n",
       "0           \n",
       "..     ...  \n",
       "0           \n",
       "0           \n",
       "0           \n",
       "0           \n",
       "0           \n",
       "\n",
       "[84 rows x 9 columns]"
      ]
     },
     "execution_count": 20,
     "metadata": {},
     "output_type": "execute_result"
    }
   ],
   "source": [
    "df"
   ]
  },
  {
   "cell_type": "code",
   "execution_count": 21,
   "metadata": {},
   "outputs": [
    {
     "data": {
      "text/plain": [
       "array(['', 'American', 'Japan', 'British', 'Ancestral Pueblo'],\n",
       "      dtype=object)"
      ]
     },
     "execution_count": 21,
     "metadata": {},
     "output_type": "execute_result"
    }
   ],
   "source": [
    "df.culture.unique()"
   ]
  },
  {
   "cell_type": "markdown",
   "metadata": {},
   "source": [
    " "
   ]
  },
  {
   "cell_type": "markdown",
   "metadata": {},
   "source": [
    "Поисковый запрос для департамента \"Asian art\" (departmentId = 6) с тегом \"cat\": запишите id объектов в cat_ids. Используйте цикл, чтобы получить данные о первой 1000 объектов из списка."
   ]
  },
  {
   "cell_type": "code",
   "execution_count": 22,
   "metadata": {},
   "outputs": [],
   "source": [
    "# !  search?departmentId=6&q=cat\n",
    "\n",
    "r = requests.get('https://collectionapi.metmuseum.org/public/collection/v1/search?departmentId=6&q=cat')\n",
    "cats = r.json()"
   ]
  },
  {
   "cell_type": "code",
   "execution_count": 23,
   "metadata": {},
   "outputs": [],
   "source": [
    "slice_100 = cats['objectIDs'][0:100]"
   ]
  },
  {
   "cell_type": "code",
   "execution_count": 24,
   "metadata": {},
   "outputs": [],
   "source": [
    "categ = ('objectID','title', 'artistDisplayName', 'department','objectBeginDate','objectEndDate','period','objectName','culture')\n",
    "url = 'https://collectionapi.metmuseum.org/public/collection/v1/objects/'\n",
    "\n",
    "cats = pd.DataFrame()\n",
    "for IDs in slice_100:\n",
    "    req = requests.get(url+str(IDs))\n",
    "    obj = req.json()\n",
    "    #print(url+'IDs',obj_cat)\n",
    "    try:\n",
    "        for j in categ:\n",
    "            dfnew[j] = [obj[j]]\n",
    "            \n",
    "    except:\n",
    "            continue\n",
    "    cats = cats.append(dfnew)"
   ]
  },
  {
   "cell_type": "code",
   "execution_count": 25,
   "metadata": {},
   "outputs": [
    {
     "data": {
      "text/html": [
       "<div>\n",
       "<style scoped>\n",
       "    .dataframe tbody tr th:only-of-type {\n",
       "        vertical-align: middle;\n",
       "    }\n",
       "\n",
       "    .dataframe tbody tr th {\n",
       "        vertical-align: top;\n",
       "    }\n",
       "\n",
       "    .dataframe thead th {\n",
       "        text-align: right;\n",
       "    }\n",
       "</style>\n",
       "<table border=\"1\" class=\"dataframe\">\n",
       "  <thead>\n",
       "    <tr style=\"text-align: right;\">\n",
       "      <th></th>\n",
       "      <th>objectID</th>\n",
       "      <th>title</th>\n",
       "      <th>artistDisplayName</th>\n",
       "      <th>department</th>\n",
       "      <th>objectBeginDate</th>\n",
       "      <th>objectEndDate</th>\n",
       "      <th>period</th>\n",
       "      <th>objectName</th>\n",
       "      <th>culture</th>\n",
       "    </tr>\n",
       "  </thead>\n",
       "  <tbody>\n",
       "    <tr>\n",
       "      <th>0</th>\n",
       "      <td>49698</td>\n",
       "      <td>Cat</td>\n",
       "      <td>Zhang Yuguang</td>\n",
       "      <td>Asian Art</td>\n",
       "      <td>1900</td>\n",
       "      <td>1968</td>\n",
       "      <td></td>\n",
       "      <td>Folding fan mounted as an album leaf</td>\n",
       "      <td>China</td>\n",
       "    </tr>\n",
       "    <tr>\n",
       "      <th>0</th>\n",
       "      <td>49470</td>\n",
       "      <td>Cat</td>\n",
       "      <td>Wang Li</td>\n",
       "      <td>Asian Art</td>\n",
       "      <td>1813</td>\n",
       "      <td>1879</td>\n",
       "      <td>Qing dynasty (1644–1911)</td>\n",
       "      <td>Hanging scroll</td>\n",
       "      <td>China</td>\n",
       "    </tr>\n",
       "    <tr>\n",
       "      <th>0</th>\n",
       "      <td>53222</td>\n",
       "      <td>Musk Cat</td>\n",
       "      <td>Uto Gyoshi</td>\n",
       "      <td>Asian Art</td>\n",
       "      <td>1550</td>\n",
       "      <td>1599</td>\n",
       "      <td>Muromachi period (1392–1573)</td>\n",
       "      <td>Hanging scroll</td>\n",
       "      <td>Japan</td>\n",
       "    </tr>\n",
       "    <tr>\n",
       "      <th>0</th>\n",
       "      <td>36221</td>\n",
       "      <td>Cat</td>\n",
       "      <td>Wang Yun</td>\n",
       "      <td>Asian Art</td>\n",
       "      <td>1900</td>\n",
       "      <td>1933</td>\n",
       "      <td></td>\n",
       "      <td>Hanging scroll</td>\n",
       "      <td>China</td>\n",
       "    </tr>\n",
       "    <tr>\n",
       "      <th>0</th>\n",
       "      <td>60873</td>\n",
       "      <td>Burial Crown</td>\n",
       "      <td></td>\n",
       "      <td>Asian Art</td>\n",
       "      <td>960</td>\n",
       "      <td>1279</td>\n",
       "      <td>Song dynasty (960–1279) or later</td>\n",
       "      <td>Burial crown</td>\n",
       "      <td>China</td>\n",
       "    </tr>\n",
       "    <tr>\n",
       "      <th>...</th>\n",
       "      <td>...</td>\n",
       "      <td>...</td>\n",
       "      <td>...</td>\n",
       "      <td>...</td>\n",
       "      <td>...</td>\n",
       "      <td>...</td>\n",
       "      <td>...</td>\n",
       "      <td>...</td>\n",
       "      <td>...</td>\n",
       "    </tr>\n",
       "    <tr>\n",
       "      <th>0</th>\n",
       "      <td>70582</td>\n",
       "      <td>Dye-Patterned Silk</td>\n",
       "      <td></td>\n",
       "      <td>Asian Art</td>\n",
       "      <td>1600</td>\n",
       "      <td>1699</td>\n",
       "      <td></td>\n",
       "      <td>Lining</td>\n",
       "      <td>India</td>\n",
       "    </tr>\n",
       "    <tr>\n",
       "      <th>0</th>\n",
       "      <td>73158</td>\n",
       "      <td>Head of Buddha</td>\n",
       "      <td></td>\n",
       "      <td>Asian Art</td>\n",
       "      <td>600</td>\n",
       "      <td>699</td>\n",
       "      <td>pre-Angkor period</td>\n",
       "      <td>Head</td>\n",
       "      <td>Southern Cambodia</td>\n",
       "    </tr>\n",
       "    <tr>\n",
       "      <th>0</th>\n",
       "      <td>671014</td>\n",
       "      <td>Three Poems from the Later Collection of Japan...</td>\n",
       "      <td>Monk Saigyō</td>\n",
       "      <td>Asian Art</td>\n",
       "      <td>1167</td>\n",
       "      <td>1185</td>\n",
       "      <td>Heian period (794–1185)</td>\n",
       "      <td>Page from booklet</td>\n",
       "      <td>Japan</td>\n",
       "    </tr>\n",
       "    <tr>\n",
       "      <th>0</th>\n",
       "      <td>670965</td>\n",
       "      <td>Writing Table (Bundai) with Melons and Squirrels</td>\n",
       "      <td></td>\n",
       "      <td>Asian Art</td>\n",
       "      <td>1600</td>\n",
       "      <td>1649</td>\n",
       "      <td>Edo period (1615–1868)</td>\n",
       "      <td>Writing table</td>\n",
       "      <td>Japan</td>\n",
       "    </tr>\n",
       "    <tr>\n",
       "      <th>0</th>\n",
       "      <td>75747</td>\n",
       "      <td>“Takebun,” from the Musical Drama “The New Pie...</td>\n",
       "      <td></td>\n",
       "      <td>Asian Art</td>\n",
       "      <td>1600</td>\n",
       "      <td>1635</td>\n",
       "      <td>Edo period (1615–1868)</td>\n",
       "      <td>Screens</td>\n",
       "      <td>Japan</td>\n",
       "    </tr>\n",
       "  </tbody>\n",
       "</table>\n",
       "<p>100 rows × 9 columns</p>\n",
       "</div>"
      ],
      "text/plain": [
       "    objectID                                              title  \\\n",
       "0      49698                                                Cat   \n",
       "0      49470                                                Cat   \n",
       "0      53222                                           Musk Cat   \n",
       "0      36221                                                Cat   \n",
       "0      60873                                       Burial Crown   \n",
       "..       ...                                                ...   \n",
       "0      70582                                 Dye-Patterned Silk   \n",
       "0      73158                                     Head of Buddha   \n",
       "0     671014  Three Poems from the Later Collection of Japan...   \n",
       "0     670965   Writing Table (Bundai) with Melons and Squirrels   \n",
       "0      75747  “Takebun,” from the Musical Drama “The New Pie...   \n",
       "\n",
       "   artistDisplayName department  objectBeginDate  objectEndDate  \\\n",
       "0      Zhang Yuguang  Asian Art             1900           1968   \n",
       "0            Wang Li  Asian Art             1813           1879   \n",
       "0         Uto Gyoshi  Asian Art             1550           1599   \n",
       "0           Wang Yun  Asian Art             1900           1933   \n",
       "0                     Asian Art              960           1279   \n",
       "..               ...        ...              ...            ...   \n",
       "0                     Asian Art             1600           1699   \n",
       "0                     Asian Art              600            699   \n",
       "0        Monk Saigyō  Asian Art             1167           1185   \n",
       "0                     Asian Art             1600           1649   \n",
       "0                     Asian Art             1600           1635   \n",
       "\n",
       "                              period                            objectName  \\\n",
       "0                                     Folding fan mounted as an album leaf   \n",
       "0           Qing dynasty (1644–1911)                        Hanging scroll   \n",
       "0       Muromachi period (1392–1573)                        Hanging scroll   \n",
       "0                                                           Hanging scroll   \n",
       "0   Song dynasty (960–1279) or later                          Burial crown   \n",
       "..                               ...                                   ...   \n",
       "0                                                                   Lining   \n",
       "0                  pre-Angkor period                                  Head   \n",
       "0            Heian period (794–1185)                     Page from booklet   \n",
       "0             Edo period (1615–1868)                         Writing table   \n",
       "0             Edo period (1615–1868)                               Screens   \n",
       "\n",
       "              culture  \n",
       "0               China  \n",
       "0               China  \n",
       "0               Japan  \n",
       "0               China  \n",
       "0               China  \n",
       "..                ...  \n",
       "0               India  \n",
       "0   Southern Cambodia  \n",
       "0               Japan  \n",
       "0               Japan  \n",
       "0               Japan  \n",
       "\n",
       "[100 rows x 9 columns]"
      ]
     },
     "execution_count": 25,
     "metadata": {},
     "output_type": "execute_result"
    }
   ],
   "source": [
    "cats"
   ]
  },
  {
   "cell_type": "code",
   "execution_count": 26,
   "metadata": {},
   "outputs": [
    {
     "data": {
      "text/plain": [
       "Edo period (1615–1868)                         30\n",
       "                                               19\n",
       "Qing dynasty (1644–1911)                       15\n",
       "Meiji period (1868–1912)                        7\n",
       "Edo (1615–1868) or Meiji period (1868–1912)     7\n",
       "pre-Angkor period                               6\n",
       "Han dynasty (206 B.C.–A.D. 220)                 3\n",
       "Western Han dynasty (206 B.C.–A.D. 9)           1\n",
       "Momoyama period (1573–1615)                     1\n",
       "Satavahana-Ikshvaku                             1\n",
       "Kushan period                                   1\n",
       "Song dynasty (960–1279) or later                1\n",
       "Ming dynasty (1368–1644)                        1\n",
       "Ming dynasty (?) (1368–1644)                    1\n",
       "Eastern Han dynasty (25–200)                    1\n",
       "Central Javanese period                         1\n",
       "Mon-Dvaravati period                            1\n",
       "Khmer Empire (802–1431)                         1\n",
       "Muromachi period (1392–1573)                    1\n",
       "Heian period (794–1185)                         1\n",
       "Name: period, dtype: int64"
      ]
     },
     "execution_count": 26,
     "metadata": {},
     "output_type": "execute_result"
    }
   ],
   "source": [
    "cats.period.value_counts()"
   ]
  },
  {
   "cell_type": "code",
   "execution_count": null,
   "metadata": {},
   "outputs": [],
   "source": []
  }
 ],
 "metadata": {
  "kernelspec": {
   "display_name": "Python 3",
   "language": "python",
   "name": "python3"
  },
  "language_info": {
   "codemirror_mode": {
    "name": "ipython",
    "version": 3
   },
   "file_extension": ".py",
   "mimetype": "text/x-python",
   "name": "python",
   "nbconvert_exporter": "python",
   "pygments_lexer": "ipython3",
   "version": "3.8.5"
  }
 },
 "nbformat": 4,
 "nbformat_minor": 4
}
